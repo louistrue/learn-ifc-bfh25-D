{
 "cells": [
  {
   "cell_type": "markdown",
   "metadata": {},
   "source": [
    "<a href=\"https://colab.research.google.com/github/louistrue/learn-ifc-bfh25-D/blob/main/BFH-25-IFC-Dashboard-Starter.ipynb\" target=\"_parent\"><img src=\"https://colab.research.google.com/assets/colab-badge.svg\" alt=\"Open In Colab\"/></a>\n"
   ]
  },
  {
   "cell_type": "markdown",
   "metadata": {},
   "source": [
    "# IFC Dashboard Starter Template\n",
    "\n",
    "A minimal template to get started building IFC data dashboards.\n",
    "\n",
    "**What this does:**\n",
    "- Load an IFC file from GitHub\n",
    "- Extract element types and building storeys\n",
    "- Create a simple 2-tab dashboard\n"
   ]
  },
  {
   "cell_type": "markdown",
   "metadata": {},
   "source": [
    "## Step 1: Install packages\n"
   ]
  },
  {
   "cell_type": "code",
   "execution_count": null,
   "metadata": {},
   "outputs": [],
   "source": [
    "%pip install -q ifcopenshell pandas plotly dash\n"
   ]
  },
  {
   "cell_type": "markdown",
   "metadata": {},
   "source": [
    "## Step 2: Load IFC file from GitHub\n"
   ]
  },
  {
   "cell_type": "code",
   "execution_count": null,
   "metadata": {},
   "outputs": [],
   "source": [
    "import urllib.request\n",
    "import ifcopenshell\n",
    "\n",
    "# Download IFC file from GitHub\n",
    "github_url = 'https://raw.githubusercontent.com/louistrue/learn-ifc-bfh25-D/main/Modelle/BFH-25/02_BIMcollab_Example_ARC.ifc'\n",
    "local_filename = '02_BIMcollab_Example_ARC.ifc'\n",
    "\n",
    "print(\"📥 Downloading IFC file...\")\n",
    "urllib.request.urlretrieve(github_url, local_filename)\n",
    "print(\"✅ Downloaded successfully!\")\n",
    "\n",
    "# Open IFC file\n",
    "model = ifcopenshell.open(local_filename)\n",
    "print(f\"\\n🏗️ Loaded: {model.schema}\")\n",
    "print(f\"📊 Total elements: {len(model.by_type('IfcElement'))}\")\n"
   ]
  },
  {
   "cell_type": "markdown",
   "metadata": {},
   "source": [
    "## Step 3: Parse IFC data\n",
    "\n",
    "Extract elements and their building storeys.\n"
   ]
  },
  {
   "cell_type": "code",
   "execution_count": null,
   "metadata": {},
   "outputs": [],
   "source": [
    "import pandas as pd\n",
    "\n",
    "# Helper function to get storey name\n",
    "def get_storey_name(storey):\n",
    "    if storey is None:\n",
    "        return 'Not assigned'\n",
    "    return storey.LongName or storey.Name or f\"Storey {storey.id()}\"\n",
    "\n",
    "# Map elements to storeys\n",
    "element_data = []\n",
    "\n",
    "for element in model.by_type('IfcElement'):\n",
    "    element_type = element.is_a()\n",
    "    element_id = element.GlobalId\n",
    "    \n",
    "    # Find storey\n",
    "    storey = 'Not assigned'\n",
    "    for rel in model.by_type('IfcRelContainedInSpatialStructure'):\n",
    "        if element in rel.RelatedElements:\n",
    "            if rel.RelatingStructure and rel.RelatingStructure.is_a('IfcBuildingStorey'):\n",
    "                storey = get_storey_name(rel.RelatingStructure)\n",
    "                break\n",
    "    \n",
    "    element_data.append({\n",
    "        'ElementId': element_id,\n",
    "        'ElementType': element_type,\n",
    "        'Storey': storey\n",
    "    })\n",
    "\n",
    "# Create DataFrame\n",
    "df = pd.DataFrame(element_data)\n",
    "\n",
    "print(f\"✅ Parsed {len(df)} element records\")\n",
    "print(f\"🏢 Found {df['Storey'].nunique()} storeys\")\n",
    "print(f\"🔧 Found {df['ElementType'].nunique()} element types\")\n",
    "\n",
    "df.head()\n"
   ]
  },
  {
   "cell_type": "markdown",
   "metadata": {},
   "source": [
    "## Step 4: Create aggregations for visualization\n"
   ]
  },
  {
   "cell_type": "code",
   "execution_count": null,
   "metadata": {},
   "outputs": [],
   "source": [
    "# Count elements per storey\n",
    "storey_counts = (\n",
    "    df.groupby('Storey')['ElementId']\n",
    "    .nunique()\n",
    "    .reset_index(name='Count')\n",
    "    .sort_values('Count', ascending=False)\n",
    ")\n",
    "\n",
    "# Count element types\n",
    "type_counts = (\n",
    "    df.groupby('ElementType')['ElementId']\n",
    "    .nunique()\n",
    "    .reset_index(name='Count')\n",
    "    .sort_values('Count', ascending=False)\n",
    ")\n",
    "\n",
    "print(\"📊 Data ready for visualization!\")\n",
    "storey_counts.head()\n"
   ]
  },
  {
   "cell_type": "markdown",
   "metadata": {},
   "source": [
    "## Step 5: Build a simple dashboard\n"
   ]
  },
  {
   "cell_type": "code",
   "execution_count": null,
   "metadata": {},
   "outputs": [],
   "source": [
    "from dash import Dash, dcc, html\n",
    "import plotly.express as px\n",
    "\n",
    "# Create Dash app\n",
    "app = Dash(__name__)\n",
    "\n",
    "# Create charts\n",
    "storey_chart = px.bar(\n",
    "    storey_counts,\n",
    "    x='Storey',\n",
    "    y='Count',\n",
    "    title='Elements per Storey',\n",
    "    text_auto='.0f'\n",
    ")\n",
    "storey_chart.update_layout(xaxis_title='Building Storey', yaxis_title='Number of Elements')\n",
    "\n",
    "type_chart = px.bar(\n",
    "    type_counts.head(10),\n",
    "    x='ElementType',\n",
    "    y='Count',\n",
    "    title='Top 10 Element Types',\n",
    "    text_auto='.0f'\n",
    ")\n",
    "type_chart.update_layout(xaxis_title='Element Type', yaxis_title='Count', xaxis_tickangle=-45)\n",
    "\n",
    "# Dashboard layout\n",
    "app.layout = html.Div([\n",
    "    html.H1('IFC Building Analysis'),\n",
    "    html.P('A simple dashboard showing building elements and their distribution.'),\n",
    "    \n",
    "    dcc.Tabs([\n",
    "        dcc.Tab(label='By Storey', children=[\n",
    "            html.H3('How many elements are on each storey?'),\n",
    "            dcc.Graph(figure=storey_chart)\n",
    "        ]),\n",
    "        \n",
    "        dcc.Tab(label='By Type', children=[\n",
    "            html.H3('What types of elements are in the building?'),\n",
    "            dcc.Graph(figure=type_chart)\n",
    "        ])\n",
    "    ])\n",
    "])\n",
    "\n",
    "# Run the dashboard\n",
    "print(\"🚀 Starting dashboard...\")\n",
    "app.run(jupyter_mode='inline', height=700, port=8050)\n"
   ]
  },
  {
   "cell_type": "markdown",
   "metadata": {},
   "source": [
    "## Next Steps\n",
    "\n",
    "**Extend this template:**\n",
    "- Add more tabs for different analyses\n",
    "- Include materials data\n",
    "- Add filters with dropdowns\n",
    "- Try different chart types\n",
    "\n",
    "**Try other files:**\n",
    "- Change the `github_url` to load different IFC files\n",
    "- Upload your own IFC files using file upload widgets\n",
    "\n",
    "**Learn more:**\n",
    "- [IFCOpenShell Documentation](https://docs.ifcopenshell.org/)\n",
    "- [Plotly Dash Documentation](https://dash.plotly.com/)\n",
    "- [Full example: BFH-25-Tabbed-Dashboard.ipynb](https://github.com/louistrue/learn-ifc-bfh25-D/blob/main/BFH-25-Tabbed-Dashboard.ipynb)\n"
   ]
  }
 ],
 "metadata": {
  "kernelspec": {
   "display_name": "Python 3",
   "language": "python",
   "name": "python3"
  },
  "language_info": {
   "name": "python",
   "version": "3.11"
  }
 },
 "nbformat": 4,
 "nbformat_minor": 2
}
