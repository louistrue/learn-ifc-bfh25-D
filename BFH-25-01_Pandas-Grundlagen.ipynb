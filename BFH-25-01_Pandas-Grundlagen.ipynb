{
 "cells": [
  {
   "cell_type": "markdown",
   "metadata": {},
   "source": [
    "<a href=\"https://colab.research.google.com/github/louistrue/learn-ifc-bfh25-D/blob/main/BFH-25-01_Pandas-Grundlagen.ipynb\" target=\"_parent\"><img src=\"https://colab.research.google.com/assets/colab-badge.svg\" alt=\"Open In Colab\"/></a>\n"
   ]
  },
  {
   "cell_type": "markdown",
   "metadata": {},
   "source": [
    "# IFC Datenvisualisierung Starter · Pandas-Grundlagen\n",
    "\n",
    "Du lernst:\n",
    "- IFC-Tabellen laden, erkunden, filtern und gruppieren\n",
    "- Kennzahlen und Aggregationen für Visualisierungen vorbereiten\n",
    "\n",
    "Du brauchst:\n",
    "- Einen Jupyter- oder Colab-Workspace (z. B. `BFH-25-IFC-Dashboard-Starter.ipynb`)\n",
    "- Zugang zu den Beispiel-IFC-Dateien in diesem Repository\n"
   ]
  },
  {
   "cell_type": "code",
   "execution_count": 1,
   "metadata": {},
   "outputs": [
    {
     "name": "stdout",
     "output_type": "stream",
     "text": [
      "Note: you may need to restart the kernel to use updated packages.\n"
     ]
    }
   ],
   "source": [
    "%pip install -q pandas\n"
   ]
  },
  {
   "cell_type": "code",
   "execution_count": 2,
   "metadata": {},
   "outputs": [
    {
     "data": {
      "text/html": [
       "<div>\n",
       "<style scoped>\n",
       "    .dataframe tbody tr th:only-of-type {\n",
       "        vertical-align: middle;\n",
       "    }\n",
       "\n",
       "    .dataframe tbody tr th {\n",
       "        vertical-align: top;\n",
       "    }\n",
       "\n",
       "    .dataframe thead th {\n",
       "        text-align: right;\n",
       "    }\n",
       "</style>\n",
       "<table border=\"1\" class=\"dataframe\">\n",
       "  <thead>\n",
       "    <tr style=\"text-align: right;\">\n",
       "      <th></th>\n",
       "      <th>ElementId</th>\n",
       "      <th>ElementTyp</th>\n",
       "      <th>Geschoss</th>\n",
       "    </tr>\n",
       "  </thead>\n",
       "  <tbody>\n",
       "    <tr>\n",
       "      <th>0</th>\n",
       "      <td>id1</td>\n",
       "      <td>IfcWall</td>\n",
       "      <td>EG</td>\n",
       "    </tr>\n",
       "    <tr>\n",
       "      <th>1</th>\n",
       "      <td>id2</td>\n",
       "      <td>IfcWall</td>\n",
       "      <td>OG1</td>\n",
       "    </tr>\n",
       "    <tr>\n",
       "      <th>2</th>\n",
       "      <td>id3</td>\n",
       "      <td>IfcDoor</td>\n",
       "      <td>EG</td>\n",
       "    </tr>\n",
       "    <tr>\n",
       "      <th>3</th>\n",
       "      <td>id4</td>\n",
       "      <td>IfcWindow</td>\n",
       "      <td>OG1</td>\n",
       "    </tr>\n",
       "    <tr>\n",
       "      <th>4</th>\n",
       "      <td>id5</td>\n",
       "      <td>IfcSlab</td>\n",
       "      <td>EG</td>\n",
       "    </tr>\n",
       "  </tbody>\n",
       "</table>\n",
       "</div>"
      ],
      "text/plain": [
       "  ElementId ElementTyp Geschoss\n",
       "0       id1    IfcWall       EG\n",
       "1       id2    IfcWall      OG1\n",
       "2       id3    IfcDoor       EG\n",
       "3       id4  IfcWindow      OG1\n",
       "4       id5    IfcSlab       EG"
      ]
     },
     "execution_count": 2,
     "metadata": {},
     "output_type": "execute_result"
    }
   ],
   "source": [
    "import pandas as pd\n",
    "\n",
    "df = pd.DataFrame({\n",
    "    'ElementId': ['id1','id2','id3','id4','id5','id6'],\n",
    "    'ElementTyp': ['IfcWall','IfcWall','IfcDoor','IfcWindow','IfcSlab','IfcSlab'],\n",
    "    'Geschoss': ['EG','OG1','EG','OG1','EG','OG1']\n",
    "})\n",
    "\n",
    "df.head()\n"
   ]
  },
  {
   "cell_type": "code",
   "execution_count": 3,
   "metadata": {},
   "outputs": [
    {
     "data": {
      "text/html": [
       "<div>\n",
       "<style scoped>\n",
       "    .dataframe tbody tr th:only-of-type {\n",
       "        vertical-align: middle;\n",
       "    }\n",
       "\n",
       "    .dataframe tbody tr th {\n",
       "        vertical-align: top;\n",
       "    }\n",
       "\n",
       "    .dataframe thead th {\n",
       "        text-align: right;\n",
       "    }\n",
       "</style>\n",
       "<table border=\"1\" class=\"dataframe\">\n",
       "  <thead>\n",
       "    <tr style=\"text-align: right;\">\n",
       "      <th></th>\n",
       "      <th>ElementId</th>\n",
       "      <th>ElementTyp</th>\n",
       "      <th>Geschoss</th>\n",
       "    </tr>\n",
       "  </thead>\n",
       "  <tbody>\n",
       "    <tr>\n",
       "      <th>0</th>\n",
       "      <td>id1</td>\n",
       "      <td>IfcWall</td>\n",
       "      <td>EG</td>\n",
       "    </tr>\n",
       "    <tr>\n",
       "      <th>1</th>\n",
       "      <td>id2</td>\n",
       "      <td>IfcWall</td>\n",
       "      <td>OG1</td>\n",
       "    </tr>\n",
       "    <tr>\n",
       "      <th>2</th>\n",
       "      <td>id3</td>\n",
       "      <td>IfcDoor</td>\n",
       "      <td>EG</td>\n",
       "    </tr>\n",
       "  </tbody>\n",
       "</table>\n",
       "</div>"
      ],
      "text/plain": [
       "  ElementId ElementTyp Geschoss\n",
       "0       id1    IfcWall       EG\n",
       "1       id2    IfcWall      OG1\n",
       "2       id3    IfcDoor       EG"
      ]
     },
     "metadata": {},
     "output_type": "display_data"
    },
    {
     "name": "stdout",
     "output_type": "stream",
     "text": [
      "<class 'pandas.core.frame.DataFrame'>\n",
      "RangeIndex: 6 entries, 0 to 5\n",
      "Data columns (total 3 columns):\n",
      " #   Column      Non-Null Count  Dtype \n",
      "---  ------      --------------  ----- \n",
      " 0   ElementId   6 non-null      object\n",
      " 1   ElementTyp  6 non-null      object\n",
      " 2   Geschoss    6 non-null      object\n",
      "dtypes: object(3)\n",
      "memory usage: 272.0+ bytes\n",
      "None\n"
     ]
    },
    {
     "data": {
      "text/html": [
       "<div>\n",
       "<style scoped>\n",
       "    .dataframe tbody tr th:only-of-type {\n",
       "        vertical-align: middle;\n",
       "    }\n",
       "\n",
       "    .dataframe tbody tr th {\n",
       "        vertical-align: top;\n",
       "    }\n",
       "\n",
       "    .dataframe thead th {\n",
       "        text-align: right;\n",
       "    }\n",
       "</style>\n",
       "<table border=\"1\" class=\"dataframe\">\n",
       "  <thead>\n",
       "    <tr style=\"text-align: right;\">\n",
       "      <th></th>\n",
       "      <th>ElementId</th>\n",
       "      <th>ElementTyp</th>\n",
       "      <th>Geschoss</th>\n",
       "    </tr>\n",
       "  </thead>\n",
       "  <tbody>\n",
       "    <tr>\n",
       "      <th>count</th>\n",
       "      <td>6</td>\n",
       "      <td>6</td>\n",
       "      <td>6</td>\n",
       "    </tr>\n",
       "    <tr>\n",
       "      <th>unique</th>\n",
       "      <td>6</td>\n",
       "      <td>4</td>\n",
       "      <td>2</td>\n",
       "    </tr>\n",
       "    <tr>\n",
       "      <th>top</th>\n",
       "      <td>id1</td>\n",
       "      <td>IfcWall</td>\n",
       "      <td>EG</td>\n",
       "    </tr>\n",
       "    <tr>\n",
       "      <th>freq</th>\n",
       "      <td>1</td>\n",
       "      <td>2</td>\n",
       "      <td>3</td>\n",
       "    </tr>\n",
       "  </tbody>\n",
       "</table>\n",
       "</div>"
      ],
      "text/plain": [
       "       ElementId ElementTyp Geschoss\n",
       "count          6          6        6\n",
       "unique         6          4        2\n",
       "top          id1    IfcWall       EG\n",
       "freq           1          2        3"
      ]
     },
     "metadata": {},
     "output_type": "display_data"
    }
   ],
   "source": [
    "display(df.head(3))\n",
    "print(df.info())\n",
    "display(df.describe(include='all'))\n"
   ]
  },
  {
   "cell_type": "code",
   "execution_count": 4,
   "metadata": {},
   "outputs": [
    {
     "data": {
      "text/html": [
       "<div>\n",
       "<style scoped>\n",
       "    .dataframe tbody tr th:only-of-type {\n",
       "        vertical-align: middle;\n",
       "    }\n",
       "\n",
       "    .dataframe tbody tr th {\n",
       "        vertical-align: top;\n",
       "    }\n",
       "\n",
       "    .dataframe thead th {\n",
       "        text-align: right;\n",
       "    }\n",
       "</style>\n",
       "<table border=\"1\" class=\"dataframe\">\n",
       "  <thead>\n",
       "    <tr style=\"text-align: right;\">\n",
       "      <th></th>\n",
       "      <th>ElementId</th>\n",
       "      <th>ElementTyp</th>\n",
       "      <th>Geschoss</th>\n",
       "    </tr>\n",
       "  </thead>\n",
       "  <tbody>\n",
       "    <tr>\n",
       "      <th>0</th>\n",
       "      <td>id1</td>\n",
       "      <td>IfcWall</td>\n",
       "      <td>EG</td>\n",
       "    </tr>\n",
       "  </tbody>\n",
       "</table>\n",
       "</div>"
      ],
      "text/plain": [
       "  ElementId ElementTyp Geschoss\n",
       "0       id1    IfcWall       EG"
      ]
     },
     "execution_count": 4,
     "metadata": {},
     "output_type": "execute_result"
    }
   ],
   "source": [
    "waende_eg = df[(df['ElementTyp']==\"IfcWall\") & (df['Geschoss']==\"EG\")]\n",
    "waende_eg\n"
   ]
  },
  {
   "cell_type": "code",
   "execution_count": 5,
   "metadata": {},
   "outputs": [
    {
     "data": {
      "text/html": [
       "<div>\n",
       "<style scoped>\n",
       "    .dataframe tbody tr th:only-of-type {\n",
       "        vertical-align: middle;\n",
       "    }\n",
       "\n",
       "    .dataframe tbody tr th {\n",
       "        vertical-align: top;\n",
       "    }\n",
       "\n",
       "    .dataframe thead th {\n",
       "        text-align: right;\n",
       "    }\n",
       "</style>\n",
       "<table border=\"1\" class=\"dataframe\">\n",
       "  <thead>\n",
       "    <tr style=\"text-align: right;\">\n",
       "      <th></th>\n",
       "      <th>Geschoss</th>\n",
       "      <th>Anzahl</th>\n",
       "    </tr>\n",
       "  </thead>\n",
       "  <tbody>\n",
       "    <tr>\n",
       "      <th>0</th>\n",
       "      <td>EG</td>\n",
       "      <td>3</td>\n",
       "    </tr>\n",
       "    <tr>\n",
       "      <th>1</th>\n",
       "      <td>OG1</td>\n",
       "      <td>3</td>\n",
       "    </tr>\n",
       "  </tbody>\n",
       "</table>\n",
       "</div>"
      ],
      "text/plain": [
       "  Geschoss  Anzahl\n",
       "0       EG       3\n",
       "1      OG1       3"
      ]
     },
     "execution_count": 5,
     "metadata": {},
     "output_type": "execute_result"
    }
   ],
   "source": [
    "geschoss_counts = (\n",
    "    df.groupby('Geschoss')['ElementId']\n",
    "      .nunique()\n",
    "      .reset_index(name='Anzahl')\n",
    "      .sort_values('Anzahl', ascending=False)\n",
    ")\n",
    "geschoss_counts\n"
   ]
  },
  {
   "cell_type": "code",
   "execution_count": 6,
   "metadata": {},
   "outputs": [
    {
     "data": {
      "text/html": [
       "<div>\n",
       "<style scoped>\n",
       "    .dataframe tbody tr th:only-of-type {\n",
       "        vertical-align: middle;\n",
       "    }\n",
       "\n",
       "    .dataframe tbody tr th {\n",
       "        vertical-align: top;\n",
       "    }\n",
       "\n",
       "    .dataframe thead th {\n",
       "        text-align: right;\n",
       "    }\n",
       "</style>\n",
       "<table border=\"1\" class=\"dataframe\">\n",
       "  <thead>\n",
       "    <tr style=\"text-align: right;\">\n",
       "      <th>ElementTyp</th>\n",
       "      <th>IfcDoor</th>\n",
       "      <th>IfcSlab</th>\n",
       "      <th>IfcWall</th>\n",
       "      <th>IfcWindow</th>\n",
       "    </tr>\n",
       "    <tr>\n",
       "      <th>Geschoss</th>\n",
       "      <th></th>\n",
       "      <th></th>\n",
       "      <th></th>\n",
       "      <th></th>\n",
       "    </tr>\n",
       "  </thead>\n",
       "  <tbody>\n",
       "    <tr>\n",
       "      <th>EG</th>\n",
       "      <td>1</td>\n",
       "      <td>1</td>\n",
       "      <td>1</td>\n",
       "      <td>0</td>\n",
       "    </tr>\n",
       "    <tr>\n",
       "      <th>OG1</th>\n",
       "      <td>0</td>\n",
       "      <td>1</td>\n",
       "      <td>1</td>\n",
       "      <td>1</td>\n",
       "    </tr>\n",
       "  </tbody>\n",
       "</table>\n",
       "</div>"
      ],
      "text/plain": [
       "ElementTyp  IfcDoor  IfcSlab  IfcWall  IfcWindow\n",
       "Geschoss                                        \n",
       "EG                1        1        1          0\n",
       "OG1               0        1        1          1"
      ]
     },
     "execution_count": 6,
     "metadata": {},
     "output_type": "execute_result"
    }
   ],
   "source": [
    "heatmap_data = (\n",
    "    df.pivot_table(values='ElementId', index='Geschoss', columns='ElementTyp',\n",
    "                   aggfunc='count', fill_value=0)\n",
    ")\n",
    "heatmap_data\n"
   ]
  },
  {
   "cell_type": "markdown",
   "metadata": {},
   "source": [
    "## Was du hier machst\n",
    "- Erzeugst einen kleinen DataFrame mit IFC-Elementen (synthetisch).\n",
    "- Erkundest die Daten (head, info, describe).\n",
    "- Filterst per Bedingung (z. B. Wände im EG).\n",
    "- Aggregierst Kennzahlen: Anzahl Elemente pro Geschoss.\n",
    "- Formst Daten in eine Matrix (Pivot) um – perfekt für Heatmaps.\n",
    "\n",
    "## Warum das wichtig ist\n",
    "Dashboards brauchen saubere, aggregierte Tabellen. Pandas liefert dir:\n",
    "- Filtern für gezielte Teilmengen\n",
    "- Gruppieren für Kennzahlen nach Kategorie\n",
    "- Pivot für Heatmaps und Kreuztabellen\n",
    "\n",
    "## Weiteres\n",
    "- Dokumentation: https://pandas.pydata.org/docs/  ``[pandas.pydata.org]``\n",
    "- Nächster Schritt: `BFH-25-02_Plotly-Grundlagen.ipynb`\n"
   ]
  }
 ],
 "metadata": {
  "colab": {
   "include_colab_link": true
  },
  "kernelspec": {
   "display_name": "Python 3",
   "language": "python",
   "name": "python3"
  },
  "language_info": {
   "name": "python",
   "version": "3.13.7"
  }
 },
 "nbformat": 4,
 "nbformat_minor": 5
}
