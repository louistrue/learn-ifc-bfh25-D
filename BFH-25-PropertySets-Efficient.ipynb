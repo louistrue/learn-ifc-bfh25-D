{
 "cells": [
  {
   "cell_type": "markdown",
   "id": "6bdd858d",
   "metadata": {},
   "source": [
    "<a href=\"https://colab.research.google.com/github/louistrue/learn-ifc-bfh25-D/blob/main/BFH-25-PropertySets-Efficient.ipynb\" target=\"_parent\"><img src=\"https://colab.research.google.com/assets/colab-badge.svg\" alt=\"Open In Colab\"/></a>\n"
   ]
  },
  {
   "cell_type": "markdown",
   "id": "f008b679",
   "metadata": {},
   "source": [
    "# 🎓 PropertySets effizient extrahieren - ohne Element-Iteration\n",
    "\n",
    "## Frage:\n",
    "*\"Wie kann ich eine Liste aller einzigartigen PropertySets und Properties aus einem IFC-Modell erzeugen, idealerweise **ohne Element-für-Element** zu iterieren.\"*\n",
    "\n",
    "## Mögliche Lösung:\n",
    "**Direkt `IfcPropertySet`-Instanzen abfragen statt über Elemente**\n",
    "\n",
    "- ❌ Langsam: Element → IsDefinedBy → PropertySet\n",
    "- ✅ Schnell: Direkt `model.by_type(\"IfcPropertySet\")` → HasProperties\n"
   ]
  },
  {
   "cell_type": "code",
   "execution_count": 1,
   "id": "d4b6b587",
   "metadata": {
    "execution": {
     "iopub.execute_input": "2025-10-07T13:47:03.810141Z",
     "iopub.status.busy": "2025-10-07T13:47:03.809731Z",
     "iopub.status.idle": "2025-10-07T13:47:04.342261Z",
     "shell.execute_reply": "2025-10-07T13:47:04.341794Z"
    }
   },
   "outputs": [
    {
     "name": "stdout",
     "output_type": "stream",
     "text": [
      "Requirement already satisfied: ifcopenshell in ./.venv/lib/python3.9/site-packages (0.8.3.post2)\r\n",
      "Requirement already satisfied: shapely in ./.venv/lib/python3.9/site-packages (from ifcopenshell) (2.0.7)\r\n",
      "Requirement already satisfied: numpy in ./.venv/lib/python3.9/site-packages (from ifcopenshell) (2.0.2)\r\n",
      "Requirement already satisfied: isodate in ./.venv/lib/python3.9/site-packages (from ifcopenshell) (0.7.2)\r\n",
      "Requirement already satisfied: python-dateutil in ./.venv/lib/python3.9/site-packages (from ifcopenshell) (2.9.0.post0)\r\n",
      "Requirement already satisfied: lark in ./.venv/lib/python3.9/site-packages (from ifcopenshell) (1.3.0)\r\n",
      "Requirement already satisfied: typing-extensions in ./.venv/lib/python3.9/site-packages (from ifcopenshell) (4.15.0)\r\n",
      "Requirement already satisfied: six>=1.5 in ./.venv/lib/python3.9/site-packages (from python-dateutil->ifcopenshell) (1.17.0)\r\n"
     ]
    },
    {
     "name": "stdout",
     "output_type": "stream",
     "text": [
      "Note: you may need to restart the kernel to use updated packages.\n"
     ]
    }
   ],
   "source": [
    "%pip install ifcopenshell\n"
   ]
  },
  {
   "cell_type": "code",
   "execution_count": 2,
   "id": "5e3f441f",
   "metadata": {
    "execution": {
     "iopub.execute_input": "2025-10-07T13:47:04.344105Z",
     "iopub.status.busy": "2025-10-07T13:47:04.343951Z",
     "iopub.status.idle": "2025-10-07T13:47:06.887086Z",
     "shell.execute_reply": "2025-10-07T13:47:06.886792Z"
    }
   },
   "outputs": [],
   "source": [
    "import ifcopenshell\n",
    "from collections import defaultdict\n",
    "import time\n"
   ]
  },
  {
   "cell_type": "code",
   "execution_count": 3,
   "id": "d0db12df",
   "metadata": {
    "execution": {
     "iopub.execute_input": "2025-10-07T13:47:06.888360Z",
     "iopub.status.busy": "2025-10-07T13:47:06.888285Z",
     "iopub.status.idle": "2025-10-07T13:47:07.290713Z",
     "shell.execute_reply": "2025-10-07T13:47:07.290463Z"
    }
   },
   "outputs": [
    {
     "name": "stdout",
     "output_type": "stream",
     "text": [
      "💻 Lokal: Modelle/BFH-25/02_BIMcollab_Example_ARC.ifc\n"
     ]
    },
    {
     "name": "stdout",
     "output_type": "stream",
     "text": [
      "✅ IFC2X3 | 1354 Elemente\n"
     ]
    }
   ],
   "source": [
    "# Modell laden\n",
    "try:\n",
    "    from google.colab import files\n",
    "    print(\"🔼 Colab: IFC-Datei hochladen...\")\n",
    "    uploaded = files.upload()\n",
    "    IFC_FILE = list(uploaded.keys())[0]\n",
    "except:\n",
    "    IFC_FILE = \"Modelle/BFH-25/02_BIMcollab_Example_ARC.ifc\"\n",
    "    print(f\"💻 Lokal: {IFC_FILE}\")\n",
    "\n",
    "model = ifcopenshell.open(IFC_FILE)\n",
    "print(f\"✅ {model.schema} | {len(model.by_type('IfcElement'))} Elemente\")\n"
   ]
  },
  {
   "cell_type": "markdown",
   "id": "176b01e1",
   "metadata": {},
   "source": [
    "## ✅ Die Lösung: Direkte PropertySet-Abfrage\n"
   ]
  },
  {
   "cell_type": "code",
   "execution_count": 4,
   "id": "ed30ca42",
   "metadata": {
    "execution": {
     "iopub.execute_input": "2025-10-07T13:47:07.292004Z",
     "iopub.status.busy": "2025-10-07T13:47:07.291912Z",
     "iopub.status.idle": "2025-10-07T13:47:07.348784Z",
     "shell.execute_reply": "2025-10-07T13:47:07.348480Z"
    }
   },
   "outputs": [
    {
     "name": "stdout",
     "output_type": "stream",
     "text": [
      "✅ Direkte Methode: 0.052s\n",
      "✅ 20 PropertySets\n",
      "✅ 71 Properties total\n",
      "\n",
      "📋 Beispiele:\n",
      "  • Pset_ProjectCommon: ['BuildingPermitId']...\n",
      "  • Pset_SiteCommon: ['SiteFireSafetyLevel', 'SiteSafetyClassification', 'BuildingHeightLimit']...\n",
      "  • Pset_BuildingStoreyCommon: ['EntranceLevel', 'AboveGround']...\n"
     ]
    }
   ],
   "source": [
    "# ✅ EFFIZIENT: Direkt PropertySets abfragen\n",
    "start = time.time()\n",
    "\n",
    "pset_to_props = defaultdict(set)\n",
    "\n",
    "for pset in model.by_type(\"IfcPropertySet\"):\n",
    "    pset_name = pset.Name\n",
    "    if hasattr(pset, 'HasProperties') and pset.HasProperties:\n",
    "        for prop in pset.HasProperties:\n",
    "            pset_to_props[pset_name].add(prop.Name)\n",
    "\n",
    "elapsed_fast = time.time() - start\n",
    "\n",
    "print(f\"✅ Direkte Methode: {elapsed_fast:.3f}s\")\n",
    "print(f\"✅ {len(pset_to_props)} PropertySets\")\n",
    "print(f\"✅ {sum(len(p) for p in pset_to_props.values())} Properties total\")\n",
    "print(f\"\\n📋 Beispiele:\")\n",
    "for name, props in list(pset_to_props.items())[:3]:\n",
    "    print(f\"  • {name}: {list(props)[:3]}...\")\n"
   ]
  },
  {
   "cell_type": "markdown",
   "id": "44ab9627",
   "metadata": {},
   "source": [
    "## 🐌 Vergleich: Langsame Methode (über Elemente)\n"
   ]
  },
  {
   "cell_type": "code",
   "execution_count": 5,
   "id": "8fc4a7cf",
   "metadata": {
    "execution": {
     "iopub.execute_input": "2025-10-07T13:47:07.349887Z",
     "iopub.status.busy": "2025-10-07T13:47:07.349815Z",
     "iopub.status.idle": "2025-10-07T13:47:07.455277Z",
     "shell.execute_reply": "2025-10-07T13:47:07.455039Z"
    }
   },
   "outputs": [
    {
     "name": "stdout",
     "output_type": "stream",
     "text": [
      "🐌 Langsame Methode: 0.103s\n",
      "✅ 20 PropertySets\n",
      "\n",
      "⚡ Speedup: 2.0x schneller!\n"
     ]
    }
   ],
   "source": [
    "# 🐌 LANGSAM: Über Elemente iterieren\n",
    "start = time.time()\n",
    "\n",
    "pset_to_props_slow = defaultdict(set)\n",
    "\n",
    "for element in model.by_type(\"IfcObject\"):\n",
    "    if hasattr(element, 'IsDefinedBy') and element.IsDefinedBy:\n",
    "        for rel in element.IsDefinedBy:\n",
    "            if rel.is_a('IfcRelDefinesByProperties'):\n",
    "                prop_def = rel.RelatingPropertyDefinition\n",
    "                if prop_def and prop_def.is_a('IfcPropertySet'):\n",
    "                    if hasattr(prop_def, 'HasProperties') and prop_def.HasProperties:\n",
    "                        for prop in prop_def.HasProperties:\n",
    "                            pset_to_props_slow[prop_def.Name].add(prop.Name)\n",
    "\n",
    "elapsed_slow = time.time() - start\n",
    "\n",
    "print(f\"🐌 Langsame Methode: {elapsed_slow:.3f}s\")\n",
    "print(f\"✅ {len(pset_to_props_slow)} PropertySets\")\n",
    "print(f\"\\n⚡ Speedup: {elapsed_slow/elapsed_fast:.1f}x schneller!\")\n"
   ]
  },
  {
   "cell_type": "markdown",
   "id": "62426f2b",
   "metadata": {},
   "source": [
    "## 🎯 Als wiederverwendbare Funktion\n"
   ]
  },
  {
   "cell_type": "code",
   "execution_count": 6,
   "id": "2a0faecc",
   "metadata": {
    "execution": {
     "iopub.execute_input": "2025-10-07T13:47:07.456492Z",
     "iopub.status.busy": "2025-10-07T13:47:07.456424Z",
     "iopub.status.idle": "2025-10-07T13:47:07.540286Z",
     "shell.execute_reply": "2025-10-07T13:47:07.540033Z"
    }
   },
   "outputs": [
    {
     "name": "stdout",
     "output_type": "stream",
     "text": [
      "✅ 21 PropertySets/Quantities\n",
      "\n",
      "📋 Alle gefunden:\n",
      "  • BaseQuantities (35 props)\n",
      "  • Material (14 props)\n",
      "  • Pset_BeamCommon (4 props)\n",
      "  • Pset_BuildingCommon (6 props)\n",
      "  • Pset_BuildingStoreyCommon (2 props)\n",
      "  • Pset_ColumnCommon (4 props)\n",
      "  • Pset_CoveringCommon (2 props)\n",
      "  • Pset_CurtainWallCommon (5 props)\n",
      "  • Pset_DoorCommon (6 props)\n",
      "  • Pset_DoorWindowGlazingType (5 props)\n",
      "  • Pset_FireRatingProperties (1 props)\n",
      "  • Pset_ManufacturerOccurrence (1 props)\n",
      "  • Pset_ManufacturerTypeInformation (2 props)\n",
      "  • Pset_ProjectCommon (1 props)\n",
      "  • Pset_QuantityTakeOff (2 props)\n",
      "  • Pset_RailingCommon (1 props)\n",
      "  • Pset_SiteCommon (3 props)\n",
      "  • Pset_SlabCommon (3 props)\n",
      "  • Pset_SpaceOccupancyRequirements (1 props)\n",
      "  • Pset_WallCommon (3 props)\n",
      "  • Pset_WindowCommon (5 props)\n"
     ]
    }
   ],
   "source": [
    "def get_all_psets_and_properties(model):\n",
    "    \"\"\"\n",
    "    Extrahiert alle PropertySets und Properties OHNE über Elemente zu iterieren.\n",
    "    \n",
    "    Returns:\n",
    "        dict: {PropertySet-Name: set(Property-Namen)}\n",
    "    \"\"\"\n",
    "    result = defaultdict(set)\n",
    "    \n",
    "    # PropertySets\n",
    "    for pset in model.by_type(\"IfcPropertySet\"):\n",
    "        if hasattr(pset, 'HasProperties') and pset.HasProperties:\n",
    "            for prop in pset.HasProperties:\n",
    "                result[pset.Name].add(prop.Name)\n",
    "    \n",
    "    # Auch Quantities\n",
    "    for qto in model.by_type(\"IfcElementQuantity\"):\n",
    "        if hasattr(qto, 'Quantities') and qto.Quantities:\n",
    "            for q in qto.Quantities:\n",
    "                result[qto.Name].add(q.Name)\n",
    "    \n",
    "    return dict(result)\n",
    "\n",
    "# Testen\n",
    "result = get_all_psets_and_properties(model)\n",
    "print(f\"✅ {len(result)} PropertySets/Quantities\")\n",
    "print(f\"\\n📋 Alle gefunden:\")\n",
    "for name in sorted(result.keys()):\n",
    "    print(f\"  • {name} ({len(result[name])} props)\")\n"
   ]
  }
 ],
 "metadata": {
  "language_info": {
   "codemirror_mode": {
    "name": "ipython",
    "version": 3
   },
   "file_extension": ".py",
   "mimetype": "text/x-python",
   "name": "python",
   "nbconvert_exporter": "python",
   "pygments_lexer": "ipython3",
   "version": "3.9.6"
  }
 },
 "nbformat": 4,
 "nbformat_minor": 5
}
