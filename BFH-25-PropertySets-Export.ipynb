{
 "cells": [
  {
   "cell_type": "markdown",
   "metadata": {},
   "source": [
    "<a href=\"https://colab.research.google.com/github/louistrue/learn-ifc-bfh25-D/blob/main/BFH-25-PropertySets-Export.ipynb\" target=\"_parent\"><img src=\"https://colab.research.google.com/assets/colab-badge.svg\" alt=\"Open In Colab\"/></a>\n"
   ]
  },
  {
   "cell_type": "markdown",
   "metadata": {},
   "source": [
    "# 🧱 IFC PropertySets Export to CSV\n",
    "\n",
    "Extrahiert alle PropertySets aus einem IFC-Modell und speichert sie als CSV.\n",
    "\n",
    "**Outputs:**\n",
    "- 📄 `property_sets_detailed.csv` - Alle Properties inkl. Element-Details\n",
    "- 📄 `property_sets_summary.csv` - PropertySet-Property-Kombinationen"
   ]
  },
  {
   "cell_type": "code",
   "execution_count": null,
   "metadata": {
    "execution": {
     "iopub.execute_input": "2025-10-07T13:39:05.092407Z",
     "iopub.status.busy": "2025-10-07T13:39:05.092270Z",
     "iopub.status.idle": "2025-10-07T13:39:05.647941Z",
     "shell.execute_reply": "2025-10-07T13:39:05.647481Z"
    }
   },
   "outputs": [
    {
     "name": "stdout",
     "output_type": "stream",
     "text": [
      "Requirement already satisfied: ifcopenshell in ./.venv/lib/python3.9/site-packages (0.8.3.post2)\r\n",
      "Requirement already satisfied: shapely in ./.venv/lib/python3.9/site-packages (from ifcopenshell) (2.0.7)\r\n",
      "Requirement already satisfied: numpy in ./.venv/lib/python3.9/site-packages (from ifcopenshell) (2.0.2)\r\n",
      "Requirement already satisfied: isodate in ./.venv/lib/python3.9/site-packages (from ifcopenshell) (0.7.2)\r\n",
      "Requirement already satisfied: python-dateutil in ./.venv/lib/python3.9/site-packages (from ifcopenshell) (2.9.0.post0)\r\n",
      "Requirement already satisfied: lark in ./.venv/lib/python3.9/site-packages (from ifcopenshell) (1.3.0)\r\n",
      "Requirement already satisfied: typing-extensions in ./.venv/lib/python3.9/site-packages (from ifcopenshell) (4.15.0)\r\n",
      "Requirement already satisfied: six>=1.5 in ./.venv/lib/python3.9/site-packages (from python-dateutil->ifcopenshell) (1.17.0)\r\n"
     ]
    },
    {
     "name": "stdout",
     "output_type": "stream",
     "text": [
      "Note: you may need to restart the kernel to use updated packages.\n"
     ]
    }
   ],
   "source": [
    "%pip install ifcopenshell\n"
   ]
  },
  {
   "cell_type": "code",
   "execution_count": null,
   "metadata": {
    "execution": {
     "iopub.execute_input": "2025-10-07T13:39:05.649783Z",
     "iopub.status.busy": "2025-10-07T13:39:05.649631Z",
     "iopub.status.idle": "2025-10-07T13:39:08.605223Z",
     "shell.execute_reply": "2025-10-07T13:39:08.604929Z"
    }
   },
   "outputs": [],
   "source": [
    "import ifcopenshell\n",
    "import ifcopenshell.util.element as uel\n",
    "import pandas as pd\n",
    "from collections import defaultdict\n"
   ]
  },
  {
   "cell_type": "code",
   "execution_count": null,
   "metadata": {
    "execution": {
     "iopub.execute_input": "2025-10-07T13:39:08.606584Z",
     "iopub.status.busy": "2025-10-07T13:39:08.606475Z",
     "iopub.status.idle": "2025-10-07T13:39:09.043040Z",
     "shell.execute_reply": "2025-10-07T13:39:09.042765Z"
    }
   },
   "outputs": [
    {
     "name": "stdout",
     "output_type": "stream",
     "text": [
      "💻 Lokaler Modus - Lade: Modelle/BFH-25/02_BIMcollab_Example_ARC.ifc\n"
     ]
    },
    {
     "name": "stdout",
     "output_type": "stream",
     "text": [
      "✅ Modell geladen: IFC2X3 | 1354 Elemente\n"
     ]
    }
   ],
   "source": [
    "# 📂 IFC-Modell laden\n",
    "# Für Colab: Datei hochladen\n",
    "# Für lokal: Pfad anpassen\n",
    "try:\n",
    "    from google.colab import files\n",
    "    print(\"🔼 Google Colab erkannt - Bitte IFC-Datei hochladen...\")\n",
    "    uploaded = files.upload()\n",
    "    IFC_FILE = list(uploaded.keys())[0]\n",
    "    print(f\"✅ Datei hochgeladen: {IFC_FILE}\")\n",
    "except:\n",
    "    # Lokaler Pfad\n",
    "    IFC_FILE = \"Modelle/BFH-25/02_BIMcollab_Example_ARC.ifc\"\n",
    "    print(f\"💻 Lokaler Modus - Lade: {IFC_FILE}\")\n",
    "\n",
    "model = ifcopenshell.open(IFC_FILE)\n",
    "print(f\"✅ Modell geladen: {model.schema} | {len(model.by_type('IfcElement'))} Elemente\")\n"
   ]
  },
  {
   "cell_type": "code",
   "execution_count": null,
   "metadata": {
    "execution": {
     "iopub.execute_input": "2025-10-07T13:39:09.044221Z",
     "iopub.status.busy": "2025-10-07T13:39:09.044145Z",
     "iopub.status.idle": "2025-10-07T13:39:09.193357Z",
     "shell.execute_reply": "2025-10-07T13:39:09.193102Z"
    }
   },
   "outputs": [
    {
     "name": "stdout",
     "output_type": "stream",
     "text": [
      "🔍 Extrahiere PropertySets...\n",
      "✅ 11254 Property-Werte extrahiert\n",
      "✅ 22 PropertySets gefunden\n"
     ]
    }
   ],
   "source": [
    "# 📊 PropertySets extrahieren\n",
    "detailed_data = []\n",
    "summary_data = defaultdict(set)\n",
    "\n",
    "print(\"🔍 Extrahiere PropertySets...\")\n",
    "\n",
    "for element in model.by_type('IfcElement'):\n",
    "    element_id = element.GlobalId\n",
    "    element_type = element.is_a()\n",
    "    element_name = getattr(element, 'Name', None) or 'Unnamed'\n",
    "    \n",
    "    # PropertySets abrufen\n",
    "    psets = uel.get_psets(element)\n",
    "    \n",
    "    for pset_name, properties in psets.items():\n",
    "        if not isinstance(properties, dict):\n",
    "            continue\n",
    "        \n",
    "        for prop_name, prop_value in properties.items():\n",
    "            if prop_name == 'id':\n",
    "                continue\n",
    "            \n",
    "            # Detaillierte Daten\n",
    "            detailed_data.append({\n",
    "                'Element_GlobalId': element_id,\n",
    "                'Element_Class': element_type,\n",
    "                'Element_Name': element_name,\n",
    "                'PropertySet': pset_name,\n",
    "                'Property': prop_name,\n",
    "                'Value': str(prop_value)\n",
    "            })\n",
    "            \n",
    "            # Summary\n",
    "            summary_data[pset_name].add(prop_name)\n",
    "\n",
    "print(f\"✅ {len(detailed_data)} Property-Werte extrahiert\")\n",
    "print(f\"✅ {len(summary_data)} PropertySets gefunden\")\n"
   ]
  },
  {
   "cell_type": "code",
   "execution_count": null,
   "metadata": {
    "execution": {
     "iopub.execute_input": "2025-10-07T13:39:09.194486Z",
     "iopub.status.busy": "2025-10-07T13:39:09.194413Z",
     "iopub.status.idle": "2025-10-07T13:39:09.229586Z",
     "shell.execute_reply": "2025-10-07T13:39:09.228933Z"
    }
   },
   "outputs": [
    {
     "name": "stdout",
     "output_type": "stream",
     "text": [
      "✅ CSV gespeichert: property_sets_detailed.csv\n",
      "   Zeilen: 11,254\n"
     ]
    },
    {
     "data": {
      "text/html": [
       "<div>\n",
       "<style scoped>\n",
       "    .dataframe tbody tr th:only-of-type {\n",
       "        vertical-align: middle;\n",
       "    }\n",
       "\n",
       "    .dataframe tbody tr th {\n",
       "        vertical-align: top;\n",
       "    }\n",
       "\n",
       "    .dataframe thead th {\n",
       "        text-align: right;\n",
       "    }\n",
       "</style>\n",
       "<table border=\"1\" class=\"dataframe\">\n",
       "  <thead>\n",
       "    <tr style=\"text-align: right;\">\n",
       "      <th></th>\n",
       "      <th>Element_GlobalId</th>\n",
       "      <th>Element_Type</th>\n",
       "      <th>Element_Name</th>\n",
       "      <th>PropertySet</th>\n",
       "      <th>Property</th>\n",
       "      <th>Value</th>\n",
       "    </tr>\n",
       "  </thead>\n",
       "  <tbody>\n",
       "    <tr>\n",
       "      <th>0</th>\n",
       "      <td>11EjrZoVgVGQm8NAB8Ffig</td>\n",
       "      <td>IfcBeam</td>\n",
       "      <td>Beam rafter</td>\n",
       "      <td>Pset_BeamCommon</td>\n",
       "      <td>Reference</td>\n",
       "      <td>Rafters 71 x 171</td>\n",
       "    </tr>\n",
       "    <tr>\n",
       "      <th>1</th>\n",
       "      <td>11EjrZoVgVGQm8NAB8Ffig</td>\n",
       "      <td>IfcBeam</td>\n",
       "      <td>Beam rafter</td>\n",
       "      <td>Pset_BeamCommon</td>\n",
       "      <td>FireRating</td>\n",
       "      <td>R 90</td>\n",
       "    </tr>\n",
       "    <tr>\n",
       "      <th>2</th>\n",
       "      <td>11EjrZoVgVGQm8NAB8Ffig</td>\n",
       "      <td>IfcBeam</td>\n",
       "      <td>Beam rafter</td>\n",
       "      <td>Pset_BeamCommon</td>\n",
       "      <td>LoadBearing</td>\n",
       "      <td>True</td>\n",
       "    </tr>\n",
       "    <tr>\n",
       "      <th>3</th>\n",
       "      <td>11EjrZoVgVGQm8NAB8Ffig</td>\n",
       "      <td>IfcBeam</td>\n",
       "      <td>Beam rafter</td>\n",
       "      <td>Pset_BeamCommon</td>\n",
       "      <td>IsExternal</td>\n",
       "      <td>False</td>\n",
       "    </tr>\n",
       "    <tr>\n",
       "      <th>4</th>\n",
       "      <td>11EjrZoVgVGQm8NAB8Ffig</td>\n",
       "      <td>IfcBeam</td>\n",
       "      <td>Beam rafter</td>\n",
       "      <td>Pset_FireRatingProperties</td>\n",
       "      <td>FireResistanceRating</td>\n",
       "      <td>60</td>\n",
       "    </tr>\n",
       "    <tr>\n",
       "      <th>5</th>\n",
       "      <td>11EjrZoVgVGQm8NAB8Ffig</td>\n",
       "      <td>IfcBeam</td>\n",
       "      <td>Beam rafter</td>\n",
       "      <td>BaseQuantities</td>\n",
       "      <td>NetSurfaceAreaExtrudedSides</td>\n",
       "      <td>4.46248</td>\n",
       "    </tr>\n",
       "    <tr>\n",
       "      <th>6</th>\n",
       "      <td>11EjrZoVgVGQm8NAB8Ffig</td>\n",
       "      <td>IfcBeam</td>\n",
       "      <td>Beam rafter</td>\n",
       "      <td>BaseQuantities</td>\n",
       "      <td>Length</td>\n",
       "      <td>9220.0</td>\n",
       "    </tr>\n",
       "    <tr>\n",
       "      <th>7</th>\n",
       "      <td>11EjrZoVgVGQm8NAB8Ffig</td>\n",
       "      <td>IfcBeam</td>\n",
       "      <td>Beam rafter</td>\n",
       "      <td>BaseQuantities</td>\n",
       "      <td>Width</td>\n",
       "      <td>71.0</td>\n",
       "    </tr>\n",
       "    <tr>\n",
       "      <th>8</th>\n",
       "      <td>11EjrZoVgVGQm8NAB8Ffig</td>\n",
       "      <td>IfcBeam</td>\n",
       "      <td>Beam rafter</td>\n",
       "      <td>BaseQuantities</td>\n",
       "      <td>Depth</td>\n",
       "      <td>171.0</td>\n",
       "    </tr>\n",
       "    <tr>\n",
       "      <th>9</th>\n",
       "      <td>11EjrZoVgVGQm8NAB8Ffig</td>\n",
       "      <td>IfcBeam</td>\n",
       "      <td>Beam rafter</td>\n",
       "      <td>BaseQuantities</td>\n",
       "      <td>CrossSectionArea</td>\n",
       "      <td>0.012141</td>\n",
       "    </tr>\n",
       "  </tbody>\n",
       "</table>\n",
       "</div>"
      ],
      "text/plain": [
       "         Element_GlobalId Element_Type Element_Name  \\\n",
       "0  11EjrZoVgVGQm8NAB8Ffig      IfcBeam  Beam rafter   \n",
       "1  11EjrZoVgVGQm8NAB8Ffig      IfcBeam  Beam rafter   \n",
       "2  11EjrZoVgVGQm8NAB8Ffig      IfcBeam  Beam rafter   \n",
       "3  11EjrZoVgVGQm8NAB8Ffig      IfcBeam  Beam rafter   \n",
       "4  11EjrZoVgVGQm8NAB8Ffig      IfcBeam  Beam rafter   \n",
       "5  11EjrZoVgVGQm8NAB8Ffig      IfcBeam  Beam rafter   \n",
       "6  11EjrZoVgVGQm8NAB8Ffig      IfcBeam  Beam rafter   \n",
       "7  11EjrZoVgVGQm8NAB8Ffig      IfcBeam  Beam rafter   \n",
       "8  11EjrZoVgVGQm8NAB8Ffig      IfcBeam  Beam rafter   \n",
       "9  11EjrZoVgVGQm8NAB8Ffig      IfcBeam  Beam rafter   \n",
       "\n",
       "                 PropertySet                     Property             Value  \n",
       "0            Pset_BeamCommon                    Reference  Rafters 71 x 171  \n",
       "1            Pset_BeamCommon                   FireRating              R 90  \n",
       "2            Pset_BeamCommon                  LoadBearing              True  \n",
       "3            Pset_BeamCommon                   IsExternal             False  \n",
       "4  Pset_FireRatingProperties         FireResistanceRating                60  \n",
       "5             BaseQuantities  NetSurfaceAreaExtrudedSides           4.46248  \n",
       "6             BaseQuantities                       Length            9220.0  \n",
       "7             BaseQuantities                        Width              71.0  \n",
       "8             BaseQuantities                        Depth             171.0  \n",
       "9             BaseQuantities             CrossSectionArea          0.012141  "
      ]
     },
     "metadata": {},
     "output_type": "display_data"
    }
   ],
   "source": [
    "# 💾 CSV Export: Detaillierte Daten\n",
    "if detailed_data:\n",
    "    df_detailed = pd.DataFrame(detailed_data)\n",
    "    output_file = 'property_sets_detailed.csv'\n",
    "    df_detailed.to_csv(output_file, index=False, encoding='utf-8-sig')\n",
    "    \n",
    "    print(f\"✅ CSV gespeichert: {output_file}\")\n",
    "    print(f\"   Zeilen: {len(df_detailed):,}\")\n",
    "    display(df_detailed.head(10))\n",
    "    \n",
    "    # Download in Colab\n",
    "    try:\n",
    "        from google.colab import files\n",
    "        files.download(output_file)\n",
    "        print(f\"📥 Download gestartet: {output_file}\")\n",
    "    except:\n",
    "        pass\n"
   ]
  },
  {
   "cell_type": "code",
   "execution_count": null,
   "metadata": {
    "execution": {
     "iopub.execute_input": "2025-10-07T13:39:09.234107Z",
     "iopub.status.busy": "2025-10-07T13:39:09.233570Z",
     "iopub.status.idle": "2025-10-07T13:39:09.259243Z",
     "shell.execute_reply": "2025-10-07T13:39:09.258429Z"
    }
   },
   "outputs": [
    {
     "name": "stdout",
     "output_type": "stream",
     "text": [
      "✅ CSV gespeichert: property_sets_summary.csv\n",
      "   Zeilen: 106\n"
     ]
    },
    {
     "data": {
      "text/html": [
       "<div>\n",
       "<style scoped>\n",
       "    .dataframe tbody tr th:only-of-type {\n",
       "        vertical-align: middle;\n",
       "    }\n",
       "\n",
       "    .dataframe tbody tr th {\n",
       "        vertical-align: top;\n",
       "    }\n",
       "\n",
       "    .dataframe thead th {\n",
       "        text-align: right;\n",
       "    }\n",
       "</style>\n",
       "<table border=\"1\" class=\"dataframe\">\n",
       "  <thead>\n",
       "    <tr style=\"text-align: right;\">\n",
       "      <th></th>\n",
       "      <th>PropertySet</th>\n",
       "      <th>Property</th>\n",
       "    </tr>\n",
       "  </thead>\n",
       "  <tbody>\n",
       "    <tr>\n",
       "      <th>0</th>\n",
       "      <td>BaseQuantities</td>\n",
       "      <td>Area</td>\n",
       "    </tr>\n",
       "    <tr>\n",
       "      <th>1</th>\n",
       "      <td>BaseQuantities</td>\n",
       "      <td>CrossSectionArea</td>\n",
       "    </tr>\n",
       "    <tr>\n",
       "      <th>2</th>\n",
       "      <td>BaseQuantities</td>\n",
       "      <td>Depth</td>\n",
       "    </tr>\n",
       "    <tr>\n",
       "      <th>3</th>\n",
       "      <td>BaseQuantities</td>\n",
       "      <td>GrossArea</td>\n",
       "    </tr>\n",
       "    <tr>\n",
       "      <th>4</th>\n",
       "      <td>BaseQuantities</td>\n",
       "      <td>GrossFootprintArea</td>\n",
       "    </tr>\n",
       "    <tr>\n",
       "      <th>5</th>\n",
       "      <td>BaseQuantities</td>\n",
       "      <td>GrossSideArea</td>\n",
       "    </tr>\n",
       "    <tr>\n",
       "      <th>6</th>\n",
       "      <td>BaseQuantities</td>\n",
       "      <td>GrossSurfaceArea</td>\n",
       "    </tr>\n",
       "    <tr>\n",
       "      <th>7</th>\n",
       "      <td>BaseQuantities</td>\n",
       "      <td>GrossVolume</td>\n",
       "    </tr>\n",
       "    <tr>\n",
       "      <th>8</th>\n",
       "      <td>BaseQuantities</td>\n",
       "      <td>Height</td>\n",
       "    </tr>\n",
       "    <tr>\n",
       "      <th>9</th>\n",
       "      <td>BaseQuantities</td>\n",
       "      <td>Length</td>\n",
       "    </tr>\n",
       "    <tr>\n",
       "      <th>10</th>\n",
       "      <td>BaseQuantities</td>\n",
       "      <td>NetArea</td>\n",
       "    </tr>\n",
       "    <tr>\n",
       "      <th>11</th>\n",
       "      <td>BaseQuantities</td>\n",
       "      <td>NetFootprintArea</td>\n",
       "    </tr>\n",
       "    <tr>\n",
       "      <th>12</th>\n",
       "      <td>BaseQuantities</td>\n",
       "      <td>NetSideArea</td>\n",
       "    </tr>\n",
       "    <tr>\n",
       "      <th>13</th>\n",
       "      <td>BaseQuantities</td>\n",
       "      <td>NetSurfaceAreaExtrudedSides</td>\n",
       "    </tr>\n",
       "    <tr>\n",
       "      <th>14</th>\n",
       "      <td>BaseQuantities</td>\n",
       "      <td>NetVolume</td>\n",
       "    </tr>\n",
       "    <tr>\n",
       "      <th>15</th>\n",
       "      <td>BaseQuantities</td>\n",
       "      <td>OuterSurfaceArea</td>\n",
       "    </tr>\n",
       "    <tr>\n",
       "      <th>16</th>\n",
       "      <td>BaseQuantities</td>\n",
       "      <td>Perimeter</td>\n",
       "    </tr>\n",
       "    <tr>\n",
       "      <th>17</th>\n",
       "      <td>BaseQuantities</td>\n",
       "      <td>TotalSurfaceArea</td>\n",
       "    </tr>\n",
       "    <tr>\n",
       "      <th>18</th>\n",
       "      <td>BaseQuantities</td>\n",
       "      <td>Volume</td>\n",
       "    </tr>\n",
       "    <tr>\n",
       "      <th>19</th>\n",
       "      <td>BaseQuantities</td>\n",
       "      <td>Width</td>\n",
       "    </tr>\n",
       "  </tbody>\n",
       "</table>\n",
       "</div>"
      ],
      "text/plain": [
       "       PropertySet                     Property\n",
       "0   BaseQuantities                         Area\n",
       "1   BaseQuantities             CrossSectionArea\n",
       "2   BaseQuantities                        Depth\n",
       "3   BaseQuantities                    GrossArea\n",
       "4   BaseQuantities           GrossFootprintArea\n",
       "5   BaseQuantities                GrossSideArea\n",
       "6   BaseQuantities             GrossSurfaceArea\n",
       "7   BaseQuantities                  GrossVolume\n",
       "8   BaseQuantities                       Height\n",
       "9   BaseQuantities                       Length\n",
       "10  BaseQuantities                      NetArea\n",
       "11  BaseQuantities             NetFootprintArea\n",
       "12  BaseQuantities                  NetSideArea\n",
       "13  BaseQuantities  NetSurfaceAreaExtrudedSides\n",
       "14  BaseQuantities                    NetVolume\n",
       "15  BaseQuantities             OuterSurfaceArea\n",
       "16  BaseQuantities                    Perimeter\n",
       "17  BaseQuantities             TotalSurfaceArea\n",
       "18  BaseQuantities                       Volume\n",
       "19  BaseQuantities                        Width"
      ]
     },
     "metadata": {},
     "output_type": "display_data"
    }
   ],
   "source": [
    "# 💾 CSV Export: Zusammenfassung\n",
    "if summary_data:\n",
    "    summary_rows = [\n",
    "        {'PropertySet': pset, 'Property': prop}\n",
    "        for pset, props in summary_data.items()\n",
    "        for prop in sorted(props)\n",
    "    ]\n",
    "    \n",
    "    df_summary = pd.DataFrame(summary_rows).sort_values(['PropertySet', 'Property']).reset_index(drop=True)\n",
    "    output_file = 'property_sets_summary.csv'\n",
    "    df_summary.to_csv(output_file, index=False, encoding='utf-8-sig')\n",
    "    \n",
    "    print(f\"✅ CSV gespeichert: {output_file}\")\n",
    "    print(f\"   Zeilen: {len(df_summary):,}\")\n",
    "    display(df_summary.head(20))\n",
    "    \n",
    "    # Download in Colab\n",
    "    try:\n",
    "        from google.colab import files\n",
    "        files.download(output_file)\n",
    "        print(f\"📥 Download gestartet: {output_file}\")\n",
    "    except:\n",
    "        pass\n"
   ]
  },
  {
   "cell_type": "code",
   "execution_count": null,
   "metadata": {
    "execution": {
     "iopub.execute_input": "2025-10-07T13:39:09.263549Z",
     "iopub.status.busy": "2025-10-07T13:39:09.263097Z",
     "iopub.status.idle": "2025-10-07T13:39:09.272856Z",
     "shell.execute_reply": "2025-10-07T13:39:09.272555Z"
    }
   },
   "outputs": [
    {
     "name": "stdout",
     "output_type": "stream",
     "text": [
      "📊 Top 10 PropertySets:\n",
      "    20 Properties - BaseQuantities\n",
      "    14 Properties - Material\n",
      "    10 Properties - Door Lining Properties\n",
      "     6 Properties - Pset_DoorCommon\n",
      "     5 Properties - Pset_CurtainWallCommon\n",
      "     5 Properties - Pset_DoorWindowGlazingType\n",
      "     5 Properties - Pset_WindowCommon\n",
      "     4 Properties - Door Panel Properties - Panel 1\n",
      "     4 Properties - Door Panel Properties - Panel 2\n",
      "     4 Properties - Pset_BeamCommon\n",
      "\n",
      "🏗️ Top 10 Element-Typen:\n",
      "   2942 Properties - IfcWindow\n",
      "   2478 Properties - IfcDoor\n",
      "   2231 Properties - IfcWall\n",
      "   1601 Properties - IfcCurtainWall\n",
      "    698 Properties - IfcBeam\n",
      "    484 Properties - IfcCovering\n",
      "    252 Properties - IfcColumn\n",
      "    237 Properties - IfcFurnishingElement\n",
      "    102 Properties - IfcSlab\n",
      "     94 Properties - IfcFlowTerminal\n"
     ]
    }
   ],
   "source": [
    "# 📊 Statistiken\n",
    "print(\"📊 Top 10 PropertySets:\")\n",
    "pset_counts = df_summary.groupby('PropertySet').size().sort_values(ascending=False)\n",
    "for pset, count in pset_counts.head(10).items():\n",
    "    print(f\"   {count:3d} Properties - {pset}\")\n",
    "\n",
    "print(f\"\\n🏗️ Top 10 Element-Klassen:\")\n",
    "element_counts = df_detailed['Element_Class'].value_counts()\n",
    "for elem_type, count in element_counts.head(10).items():\n",
    "    print(f\"   {count:4d} Properties - {elem_type}\")\n"
   ]
  }
 ],
 "metadata": {
  "language_info": {
   "codemirror_mode": {
    "name": "ipython",
    "version": 3
   },
   "file_extension": ".py",
   "mimetype": "text/x-python",
   "name": "python",
   "nbconvert_exporter": "python",
   "pygments_lexer": "ipython3",
   "version": "3.9.6"
  }
 },
 "nbformat": 4,
 "nbformat_minor": 2
}
