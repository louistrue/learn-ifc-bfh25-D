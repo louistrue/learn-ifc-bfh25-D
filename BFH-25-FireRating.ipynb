{
  "cells": [
    {
      "cell_type": "markdown",
      "metadata": {
        "id": "view-in-github",
        "colab_type": "text"
      },
      "source": [
        "<a href=\"https://colab.research.google.com/github/louistrue/learn-ifc-bfh25-D/blob/main/BFH-25-FireRating.ipynb\" target=\"_parent\"><img src=\"https://colab.research.google.com/assets/colab-badge.svg\" alt=\"Open In Colab\"/></a>"
      ]
    },
    {
      "cell_type": "markdown",
      "id": "a326b2bb",
      "metadata": {
        "id": "a326b2bb"
      },
      "source": [
        "<a href=\"https://colab.research.google.com/github/louistrue/learn-ifc-bfh25-D/blob/main/BFH-25-FireRating.ipynb\" target=\"_parent\"><img src=\"https://colab.research.google.com/assets/colab-badge.svg\" alt=\"Open In Colab\"/></a>\n"
      ]
    },
    {
      "cell_type": "markdown",
      "metadata": {
        "id": "zEYTG1wgMnkd"
      },
      "source": [
        "# IFC-Workshop: FireRating finden und dokumentieren\n",
        "\n",
        "## Lernziele\n",
        "- FireRating-Informationen in Property Sets erkennen\n",
        "- Informationen aus IFC mit IfcOpenShell automatisch auswerten.\n"
      ],
      "id": "zEYTG1wgMnkd"
    },
    {
      "cell_type": "code",
      "execution_count": 1,
      "metadata": {
        "id": "L0WEtKWHMnke",
        "outputId": "f1c35ff1-2d12-479b-82c8-c2f9cbbe570c",
        "colab": {
          "base_uri": "https://localhost:8080/"
        }
      },
      "outputs": [
        {
          "output_type": "stream",
          "name": "stdout",
          "text": [
            "Collecting ifcopenshell\n",
            "  Downloading ifcopenshell-0.8.3.post2-py312-none-manylinux_2_31_x86_64.whl.metadata (11 kB)\n",
            "Requirement already satisfied: shapely in /usr/local/lib/python3.12/dist-packages (from ifcopenshell) (2.1.2)\n",
            "Requirement already satisfied: numpy in /usr/local/lib/python3.12/dist-packages (from ifcopenshell) (2.0.2)\n",
            "Collecting isodate (from ifcopenshell)\n",
            "  Downloading isodate-0.7.2-py3-none-any.whl.metadata (11 kB)\n",
            "Requirement already satisfied: python-dateutil in /usr/local/lib/python3.12/dist-packages (from ifcopenshell) (2.9.0.post0)\n",
            "Requirement already satisfied: lark in /usr/local/lib/python3.12/dist-packages (from ifcopenshell) (1.3.0)\n",
            "Requirement already satisfied: typing-extensions in /usr/local/lib/python3.12/dist-packages (from ifcopenshell) (4.15.0)\n",
            "Requirement already satisfied: six>=1.5 in /usr/local/lib/python3.12/dist-packages (from python-dateutil->ifcopenshell) (1.17.0)\n",
            "Downloading ifcopenshell-0.8.3.post2-py312-none-manylinux_2_31_x86_64.whl (41.6 MB)\n",
            "\u001b[2K   \u001b[90m━━━━━━━━━━━━━━━━━━━━━━━━━━━━━━━━━━━━━━━━\u001b[0m \u001b[32m41.6/41.6 MB\u001b[0m \u001b[31m20.6 MB/s\u001b[0m eta \u001b[36m0:00:00\u001b[0m\n",
            "\u001b[?25hDownloading isodate-0.7.2-py3-none-any.whl (22 kB)\n",
            "Installing collected packages: isodate, ifcopenshell\n",
            "Successfully installed ifcopenshell-0.8.3.post2 isodate-0.7.2\n"
          ]
        }
      ],
      "source": [
        "%pip install ifcopenshell\n"
      ],
      "id": "L0WEtKWHMnke"
    },
    {
      "cell_type": "markdown",
      "metadata": {
        "id": "HV7uiZj_Mnkf"
      },
      "source": [
        "## Theorie\n",
        "\n",
        "### IFC-Hierarchie verstehen\n",
        "- IFC organisiert Informationen hierarchisch: Projekt -> Standort -> Gebaeude -> Geschoss -> Bauteil.\n",
        "- Nutzt die Struktur im Viewer, um relevante Elemente gezielt zu filtern und nicht den Kontext zu verlieren.\n",
        "\n",
        "### Eigenschaften lesen\n",
        "- Eigenschaften koennen als Schema-Attribute (z. B. `FireRating`) oder ueber Property Sets wie `Pset_DoorCommon` bzw. `Pset_WallCommon` kommen.\n",
        "- In der Praxis tauchen unterschiedliche Schreibweisen auf: `FireRating`, `Brandklasse`, `Feuerwiderstand`, `EI30`, `T30`, `30 min`.\n",
        "- Werte am Typ werden auf alle Vorkommen vererbt. Prueft immer Instanz **und** Typ, bevor ihr einen Wert als fehlend einstuft.\n",
        "\n",
        "### Suche und Identifikation\n",
        "- Jedes IFC-Element besitzt eine GUID; Viewer erlauben jedoch oft die Suche nach Name, Klasse oder Typ."
      ],
      "id": "HV7uiZj_Mnkf"
    },
    {
      "cell_type": "markdown",
      "metadata": {
        "id": "9eC3dUrQMnkf"
      },
      "source": [
        "## Werkzeuge im Notebook\n",
        "Mit den folgenden Zellen koennt ihr FireRating-Werte direkt in einer IFC-Datei nachweisen. Fuehrt sie Schritt fuer Schritt aus und passt Pfade sowie Klassen an euer Modell an.\n"
      ],
      "id": "9eC3dUrQMnkf"
    },
    {
      "cell_type": "code",
      "execution_count": null,
      "metadata": {
        "id": "rTFJ-7JpMnkf"
      },
      "outputs": [],
      "source": [
        "from pathlib import Path\n",
        "\n",
        "def list_ifc_files(folder: str = \".\") -> None:\n",
        "    folder_path = Path(folder)\n",
        "    if not folder_path.exists():\n",
        "        print(f\"Ordner {folder_path} nicht gefunden.\")\n",
        "        return\n",
        "    files = sorted(p for p in folder_path.glob(\"*.ifc\"))\n",
        "    if not files:\n",
        "        print(\"Keine IFC-Dateien im angegebenen Ordner gefunden. Bitte Pfad pruefen.\")\n",
        "        return\n",
        "    print(\"Gefundene IFC-Dateien:\")\n",
        "    for file in files:\n",
        "        size_kb = file.stat().st_size / 1024\n",
        "        print(f\"- {file.name} ({size_kb:.1f} KB)\")\n",
        "\n",
        "list_ifc_files()\n"
      ],
      "id": "rTFJ-7JpMnkf"
    },
    {
      "cell_type": "markdown",
      "metadata": {
        "id": "2svksBF0Mnkg"
      },
      "source": [
        "### IFC-Datei laden\n",
        "Passt `IFC_PATH` an eure Datei an. Wenn ihr dieses Notebook aus dem Team-Ordner startet, reicht oft der Dateiname.\n"
      ],
      "id": "2svksBF0Mnkg"
    },
    {
      "cell_type": "code",
      "execution_count": null,
      "metadata": {
        "id": "NCTQdokxMnkg"
      },
      "outputs": [],
      "source": [
        "import ifcopenshell\n",
        "from pathlib import Path\n",
        "\n",
        "def load_ifc(path: str):\n",
        "    file_path = Path(path)\n",
        "    if not file_path.exists():\n",
        "        print(f\"Datei {file_path} nicht gefunden. Bitte Pfad pruefen.\")\n",
        "        return None\n",
        "    model = ifcopenshell.open(str(file_path))\n",
        "    try:\n",
        "        entity_count = len(model)\n",
        "    except TypeError:\n",
        "        entity_count = sum(1 for _ in model)\n",
        "    print(f\"Geladen: {file_path.name} mit {entity_count} Entitaeten\")\n",
        "    return model\n",
        "\n",
        "IFC_PATH = \"small_house_20250918_212245.ifc\"  # TODO: Pfad nach Bedarf anpassen\n",
        "model = load_ifc(IFC_PATH)\n"
      ],
      "id": "NCTQdokxMnkg"
    },
    {
      "cell_type": "markdown",
      "metadata": {
        "id": "CGKnAJ52Mnkg"
      },
      "source": [
        "### FireRating in Property Sets finden\n",
        "Die folgenden Helferfunktionen durchsuchen Instanz- und Typ-Eigenschaften nach Begriffen, die auf FireRating hindeuten. Passe die Keywords bei Bedarf an eure Modellkonvention an.\n"
      ],
      "id": "CGKnAJ52Mnkg"
    },
    {
      "cell_type": "code",
      "execution_count": null,
      "metadata": {
        "id": "2IhWYWZjMnkg"
      },
      "outputs": [],
      "source": [
        "from typing import Dict, List, Optional\n",
        "\n",
        "try:\n",
        "    from ifcopenshell.util.element import get_psets\n",
        "except ImportError as exc:  # pragma: no cover\n",
        "    raise ImportError(\"ifcopenshell util.element nicht gefunden. Bitte Installation pruefen.\") from exc\n",
        "\n",
        "FIRE_KEYWORDS = (\"firerating\", \"fire_rating\", \"fire resistance\", \"brand\", \"fireproof\")\n",
        "\n",
        "\n",
        "def _collect_matches(source, scope: str) -> List[Dict[str, str]]:\n",
        "    matches: List[Dict[str, str]] = []\n",
        "    if source is None:\n",
        "        return matches\n",
        "    value = getattr(source, \"FireRating\", None)\n",
        "    if value not in (None, \"\"):\n",
        "        matches.append({\n",
        "            \"scope\": scope,\n",
        "            \"pset\": \"Attribut\",\n",
        "            \"property\": \"FireRating\",\n",
        "            \"value\": str(value),\n",
        "        })\n",
        "    try:\n",
        "        psets = get_psets(source, include_quantities=False)\n",
        "    except TypeError:\n",
        "        psets = get_psets(source)\n",
        "    for pset_name, properties in psets.items():\n",
        "        if not isinstance(properties, dict):\n",
        "            continue\n",
        "        for prop_name, prop_value in properties.items():\n",
        "            key = prop_name.lower()\n",
        "            if any(term in key for term in FIRE_KEYWORDS):\n",
        "                matches.append({\n",
        "                    \"scope\": scope,\n",
        "                    \"pset\": pset_name,\n",
        "                    \"property\": prop_name,\n",
        "                    \"value\": str(prop_value),\n",
        "                })\n",
        "    return matches\n",
        "\n",
        "\n",
        "def find_fire_rating(element) -> List[Dict[str, str]]:\n",
        "    matches: List[Dict[str, str]] = []\n",
        "    matches.extend(_collect_matches(element, \"Instanz\"))\n",
        "    typed_by = getattr(element, \"IsTypedBy\", None)\n",
        "    if typed_by:\n",
        "        for rel in typed_by:\n",
        "            type_obj = getattr(rel, \"RelatingType\", None)\n",
        "            type_name = getattr(type_obj, \"Name\", \"\") if type_obj else \"\"\n",
        "            scope = \"Typ\" if not type_name else f\"Typ {type_name}\"\n",
        "            matches.extend(_collect_matches(type_obj, scope))\n",
        "    return matches\n",
        "\n",
        "\n",
        "def summarize_fire_rating(model, ifc_class: str = \"IfcDoor\") -> List[Dict[str, object]]:\n",
        "    if model is None:\n",
        "        return []\n",
        "    rows: List[Dict[str, object]] = []\n",
        "    for element in model.by_type(ifc_class):\n",
        "        matches = find_fire_rating(element)\n",
        "        primary = matches[0] if matches else None\n",
        "        rows.append({\n",
        "            \"class\": ifc_class,\n",
        "            \"global_id\": element.GlobalId,\n",
        "            \"name\": element.Name or \"\",\n",
        "            \"fire_rating\": primary[\"value\"] if primary else \"\",\n",
        "            \"source\": f\"{primary['scope']} / {primary['pset']}\" if primary else \"\",\n",
        "            \"matches\": matches,\n",
        "        })\n",
        "    return rows\n",
        "\n",
        "\n",
        "def show_fire_rating(rows: List[Dict[str, object]], show_empty: bool = False, limit: Optional[int] = 20) -> None:\n",
        "    if not rows:\n",
        "        print(\"Keine Elemente gefunden oder IFC-Datei nicht geladen.\")\n",
        "        return\n",
        "    data = rows if show_empty else [row for row in rows if row[\"fire_rating\"]]\n",
        "    if not data:\n",
        "        print(\"Keine FireRating-Werte gefunden (nutze show_empty=True fuer eine vollstaendige Liste).\")\n",
        "        return\n",
        "    limit = limit or len(data)\n",
        "    print(f\"Anzahl Elemente: {len(data)} (Anzeige max. {limit})\")\n",
        "    header = f\"{'#':<3} {'Name':<30} {'GlobalId':<22} {'FireRating':<12} Quelle\"\n",
        "    print(header)\n",
        "    print(\"-\" * len(header))\n",
        "    for idx, row in enumerate(data[:limit], start=1):\n",
        "        name = (row[\"name\"] or \"-\")[:30]\n",
        "        print(f\"{idx:<3} {name:<30} {row['global_id']:<22} {row['fire_rating']:<12} {row['source']}\")\n",
        "\n",
        "\n",
        "def show_missing_fire_rating(rows: List[Dict[str, object]], limit: Optional[int] = 20) -> None:\n",
        "    missing = [row for row in rows if not row[\"fire_rating\"]]\n",
        "    if not missing:\n",
        "        print(\"Alle Elemente besitzen einen FireRating-Wert.\")\n",
        "        return\n",
        "    limit = limit or len(missing)\n",
        "    print(f\"{len(missing)} Elemente ohne FireRating (Anzeige max. {limit})\")\n",
        "    for idx, row in enumerate(missing[:limit], start=1):\n",
        "        name = (row[\"name\"] or \"-\")[:30]\n",
        "        print(f\"{idx:<3} {name:<30} {row['global_id']}\")\n",
        "\n",
        "\n",
        "def inspect_matches(row: Dict[str, object]) -> None:\n",
        "    print(f\"Element: {row['name'] or '-'} ({row['global_id']})\")\n",
        "    if not row[\"matches\"]:\n",
        "        print(\"Keine FireRating-Treffer fuer dieses Element gespeichert.\")\n",
        "        return\n",
        "    for match in row[\"matches\"]:\n",
        "        print(f\"- {match['scope']} | {match['pset']} | {match['property']} -> {match['value']}\")\n"
      ],
      "id": "2IhWYWZjMnkg"
    },
    {
      "cell_type": "markdown",
      "metadata": {
        "id": "UKbiZ02MMnkh"
      },
      "source": [
        "### Auswertung starten\n",
        "Fuehre die folgende Zelle aus, um eine schnelle Uebersicht fuer Tueren zu erhalten. Aendere den Klassennamen auf `IfcWall`, wenn du Waende analysieren moechtest.\n"
      ],
      "id": "UKbiZ02MMnkh"
    },
    {
      "cell_type": "code",
      "execution_count": null,
      "metadata": {
        "id": "MsR--XkrMnkh"
      },
      "outputs": [],
      "source": [
        "door_rows = summarize_fire_rating(model, \"IfcDoor\")\n",
        "show_fire_rating(door_rows, show_empty=False, limit=20)\n",
        "print()\n",
        "show_missing_fire_rating(door_rows, limit=20)\n"
      ],
      "id": "MsR--XkrMnkh"
    },
    {
      "cell_type": "markdown",
      "metadata": {
        "id": "JsA4pJ9PMnkh"
      },
      "source": [
        "### Detailanalyse einzelner Elemente\n",
        "Wenn ihr ein bestimmtes Element dokumentieren moechtet, nutzt `inspect_matches` mit einem Eintrag aus der Liste `door_rows` (oder `wall_rows`).\n"
      ],
      "id": "JsA4pJ9PMnkh"
    },
    {
      "cell_type": "code",
      "execution_count": null,
      "metadata": {
        "id": "hexhhYZKMnkh"
      },
      "outputs": [],
      "source": [
        "if door_rows:\n",
        "    inspect_matches(door_rows[0])  # Index bei Bedarf anpassen\n"
      ],
      "id": "hexhhYZKMnkh"
    }
  ],
  "metadata": {
    "colab": {
      "provenance": [],
      "include_colab_link": true
    },
    "kernelspec": {
      "display_name": "Python 3",
      "name": "python3"
    },
    "language_info": {
      "name": "python",
      "version": "3.13.7"
    }
  },
  "nbformat": 4,
  "nbformat_minor": 5
}